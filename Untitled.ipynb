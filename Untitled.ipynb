{
 "cells": [
  {
   "cell_type": "markdown",
   "id": "1ec32298-cba7-4669-8172-c28130d46759",
   "metadata": {},
   "source": [
    "## Este notebook se crea con el fin de llevara acabo el modelo de datos espaciales"
   ]
  },
  {
   "cell_type": "markdown",
   "id": "ef2e7ab1-87c2-44c6-886f-f9b98f66c7ec",
   "metadata": {},
   "source": [
    "#### Creado por Alexander Duarte V\n",
    "##### 26/03/23"
   ]
  }
 ],
 "metadata": {
  "kernelspec": {
   "display_name": "Python 3 (ipykernel)",
   "language": "python",
   "name": "python3"
  },
  "language_info": {
   "codemirror_mode": {
    "name": "ipython",
    "version": 3
   },
   "file_extension": ".py",
   "mimetype": "text/x-python",
   "name": "python",
   "nbconvert_exporter": "python",
   "pygments_lexer": "ipython3",
   "version": "3.10.4"
  }
 },
 "nbformat": 4,
 "nbformat_minor": 5
}
