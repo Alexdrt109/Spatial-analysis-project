{
 "cells": [
  {
   "cell_type": "markdown",
   "id": "08c8b2b5-012c-47dc-b482-e5d38a4c1db8",
   "metadata": {},
   "source": [
    "## revisión de información del shape 2005"
   ]
  },
  {
   "cell_type": "code",
   "execution_count": 2,
   "id": "d2dd930a-9a47-4378-8269-e316a86a26e0",
   "metadata": {},
   "outputs": [
    {
     "data": {
      "text/plain": [
       "'C:\\\\Users\\\\DELL\\\\Programación_python\\\\Spatial_Analysis_Project_SAP'"
      ]
     },
     "execution_count": 2,
     "metadata": {},
     "output_type": "execute_result"
    }
   ],
   "source": [
    "import os\n",
    "\n",
    "# Obtén la ruta del directorio de trabajo actual\n",
    "directory = os.getcwd()\n",
    "\n",
    "# Imprime la ruta del directorio de trabajo actual\n",
    "directory\n"
   ]
  },
  {
   "cell_type": "code",
   "execution_count": 3,
   "id": "16ff9be5-5fc5-4c9d-9484-843d3bbb0a33",
   "metadata": {},
   "outputs": [
    {
     "name": "stdout",
     "output_type": "stream",
     "text": [
      "        f1         f2     f3            f4        f5        f6        f7  \\\n",
      "0    25817  Tocancipa  23947   7650.566008  0.319479  0.227559  0.380516   \n",
      "1    25823    Topaipí   4558   3706.999977  0.813295  0.502190  0.868319   \n",
      "2    25839      Ubalá  11038   8612.999967  0.780304  0.296337  0.823321   \n",
      "3    25841     Ubaque   6653   4409.245811  0.662745  0.297974  0.715385   \n",
      "4    25843      Ubate  32576  13526.043840  0.415215  0.328219  0.592459   \n",
      "..     ...        ...    ...           ...       ...       ...       ...   \n",
      "111  25797       Tena   7430   3936.000149  0.529744  0.406877  0.542484   \n",
      "112  25799      Tenjo  16559   5290.999572  0.319524  0.321077  0.318103   \n",
      "113  25805    Tibacuy   4565   3099.035159  0.678869  0.431095  0.713937   \n",
      "114  25807   Tibirita   2884   1656.000010  0.574202  0.224532  0.644195   \n",
      "115  25815    Tocaima  16040   9785.270972  0.610054  0.518764  0.748566   \n",
      "\n",
      "     objectId codigo_mun                              EXCEL_ID  \\\n",
      "0           2      25817  09a88cbf-974a-49ba-92c6-991dcb8b6dd6   \n",
      "1           3      25823  0528cbe1-d4ce-4829-8b12-430034a63956   \n",
      "2           4      25839  d714ca6f-7af7-434f-bc1e-b917e2b714b2   \n",
      "3           5      25841  877c6706-5428-4003-afe0-2f05c4060ec8   \n",
      "4           6      25843  df7747a7-7327-405f-ba06-07f325c4dfc4   \n",
      "..        ...        ...                                   ...   \n",
      "111       113      25797  edce5f03-5b42-423b-aba9-ff6efb81dee9   \n",
      "112       114      25799  71fb3d36-790d-4e5d-9069-5815d3ff9d9b   \n",
      "113       115      25805  00e835d6-16fc-4bf5-9abc-40a77c9b0a02   \n",
      "114       116      25807  c27b7d5c-84a9-4755-9f04-3cacb7343be3   \n",
      "115       117      25815  3528031a-866d-4ca7-8554-91dbb538e98f   \n",
      "\n",
      "                                              geometry  \n",
      "0    POLYGON ((-8227853.100 560297.914, -8227809.25...  \n",
      "1    POLYGON ((-8263791.408 601690.649, -8263770.37...  \n",
      "2    POLYGON ((-8184259.892 543966.240, -8183908.71...  \n",
      "3    POLYGON ((-8242810.617 502846.526, -8242738.08...  \n",
      "4    POLYGON ((-8217913.483 598934.405, -8217798.74...  \n",
      "..                                                 ...  \n",
      "111  POLYGON ((-8275950.124 518616.657, -8275976.59...  \n",
      "112  POLYGON ((-8252255.088 546556.827, -8251981.40...  \n",
      "113  POLYGON ((-8288150.774 488390.943, -8288069.57...  \n",
      "114  POLYGON ((-8185672.562 573102.592, -8185689.46...  \n",
      "115  POLYGON ((-8304586.747 514064.946, -8304561.04...  \n",
      "\n",
      "[116 rows x 11 columns]\n"
     ]
    }
   ],
   "source": [
    "import geopandas as gpd\n",
    "\n",
    "# Reemplaza 'ruta/al/shapefile.shp' con la ruta a tu archivo shapefile\n",
    "shapefile_path = 'IPM_2005_en_Cundinamarca_en_Cundinamarca.shp'\n",
    "\n",
    "# Lee el shapefile con geopandas\n",
    "gdf = gpd.read_file(shapefile_path)\n",
    "\n",
    "# Muestra el contenido del shapefile\n",
    "print(gdf)\n"
   ]
  },
  {
   "cell_type": "code",
   "execution_count": 4,
   "id": "b9d8fb06-e161-4b9d-99bb-4bf5293b9bb0",
   "metadata": {},
   "outputs": [
    {
     "data": {
      "text/html": [
       "<div>\n",
       "<style scoped>\n",
       "    .dataframe tbody tr th:only-of-type {\n",
       "        vertical-align: middle;\n",
       "    }\n",
       "\n",
       "    .dataframe tbody tr th {\n",
       "        vertical-align: top;\n",
       "    }\n",
       "\n",
       "    .dataframe thead th {\n",
       "        text-align: right;\n",
       "    }\n",
       "</style>\n",
       "<table border=\"1\" class=\"dataframe\">\n",
       "  <thead>\n",
       "    <tr style=\"text-align: right;\">\n",
       "      <th></th>\n",
       "      <th>f1</th>\n",
       "      <th>f2</th>\n",
       "      <th>f3</th>\n",
       "      <th>f4</th>\n",
       "      <th>f5</th>\n",
       "      <th>f6</th>\n",
       "      <th>f7</th>\n",
       "      <th>objectId</th>\n",
       "      <th>codigo_mun</th>\n",
       "      <th>EXCEL_ID</th>\n",
       "      <th>geometry</th>\n",
       "    </tr>\n",
       "  </thead>\n",
       "  <tbody>\n",
       "    <tr>\n",
       "      <th>0</th>\n",
       "      <td>25817</td>\n",
       "      <td>Tocancipa</td>\n",
       "      <td>23947</td>\n",
       "      <td>7650.566008</td>\n",
       "      <td>0.319479</td>\n",
       "      <td>0.227559</td>\n",
       "      <td>0.380516</td>\n",
       "      <td>2</td>\n",
       "      <td>25817</td>\n",
       "      <td>09a88cbf-974a-49ba-92c6-991dcb8b6dd6</td>\n",
       "      <td>POLYGON ((-8227853.100 560297.914, -8227809.25...</td>\n",
       "    </tr>\n",
       "    <tr>\n",
       "      <th>1</th>\n",
       "      <td>25823</td>\n",
       "      <td>Topaipí</td>\n",
       "      <td>4558</td>\n",
       "      <td>3706.999977</td>\n",
       "      <td>0.813295</td>\n",
       "      <td>0.502190</td>\n",
       "      <td>0.868319</td>\n",
       "      <td>3</td>\n",
       "      <td>25823</td>\n",
       "      <td>0528cbe1-d4ce-4829-8b12-430034a63956</td>\n",
       "      <td>POLYGON ((-8263791.408 601690.649, -8263770.37...</td>\n",
       "    </tr>\n",
       "    <tr>\n",
       "      <th>2</th>\n",
       "      <td>25839</td>\n",
       "      <td>Ubalá</td>\n",
       "      <td>11038</td>\n",
       "      <td>8612.999967</td>\n",
       "      <td>0.780304</td>\n",
       "      <td>0.296337</td>\n",
       "      <td>0.823321</td>\n",
       "      <td>4</td>\n",
       "      <td>25839</td>\n",
       "      <td>d714ca6f-7af7-434f-bc1e-b917e2b714b2</td>\n",
       "      <td>POLYGON ((-8184259.892 543966.240, -8183908.71...</td>\n",
       "    </tr>\n",
       "    <tr>\n",
       "      <th>3</th>\n",
       "      <td>25841</td>\n",
       "      <td>Ubaque</td>\n",
       "      <td>6653</td>\n",
       "      <td>4409.245811</td>\n",
       "      <td>0.662745</td>\n",
       "      <td>0.297974</td>\n",
       "      <td>0.715385</td>\n",
       "      <td>5</td>\n",
       "      <td>25841</td>\n",
       "      <td>877c6706-5428-4003-afe0-2f05c4060ec8</td>\n",
       "      <td>POLYGON ((-8242810.617 502846.526, -8242738.08...</td>\n",
       "    </tr>\n",
       "  </tbody>\n",
       "</table>\n",
       "</div>"
      ],
      "text/plain": [
       "      f1         f2     f3           f4        f5        f6        f7  \\\n",
       "0  25817  Tocancipa  23947  7650.566008  0.319479  0.227559  0.380516   \n",
       "1  25823    Topaipí   4558  3706.999977  0.813295  0.502190  0.868319   \n",
       "2  25839      Ubalá  11038  8612.999967  0.780304  0.296337  0.823321   \n",
       "3  25841     Ubaque   6653  4409.245811  0.662745  0.297974  0.715385   \n",
       "\n",
       "   objectId codigo_mun                              EXCEL_ID  \\\n",
       "0         2      25817  09a88cbf-974a-49ba-92c6-991dcb8b6dd6   \n",
       "1         3      25823  0528cbe1-d4ce-4829-8b12-430034a63956   \n",
       "2         4      25839  d714ca6f-7af7-434f-bc1e-b917e2b714b2   \n",
       "3         5      25841  877c6706-5428-4003-afe0-2f05c4060ec8   \n",
       "\n",
       "                                            geometry  \n",
       "0  POLYGON ((-8227853.100 560297.914, -8227809.25...  \n",
       "1  POLYGON ((-8263791.408 601690.649, -8263770.37...  \n",
       "2  POLYGON ((-8184259.892 543966.240, -8183908.71...  \n",
       "3  POLYGON ((-8242810.617 502846.526, -8242738.08...  "
      ]
     },
     "execution_count": 4,
     "metadata": {},
     "output_type": "execute_result"
    }
   ],
   "source": [
    "gdf.head (4)"
   ]
  }
 ],
 "metadata": {
  "kernelspec": {
   "display_name": "Python 3 (ipykernel)",
   "language": "python",
   "name": "python3"
  },
  "language_info": {
   "codemirror_mode": {
    "name": "ipython",
    "version": 3
   },
   "file_extension": ".py",
   "mimetype": "text/x-python",
   "name": "python",
   "nbconvert_exporter": "python",
   "pygments_lexer": "ipython3",
   "version": "3.10.4"
  }
 },
 "nbformat": 4,
 "nbformat_minor": 5
}
